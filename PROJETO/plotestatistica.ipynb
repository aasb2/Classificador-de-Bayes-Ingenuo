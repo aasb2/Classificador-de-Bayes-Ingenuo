{
  "nbformat": 4,
  "nbformat_minor": 0,
  "metadata": {
    "colab": {
      "name": "plotestatistica.ipynb",
      "provenance": [],
      "collapsed_sections": [],
      "include_colab_link": true
    },
    "kernelspec": {
      "name": "python3",
      "display_name": "Python 3"
    },
    "language_info": {
      "name": "python"
    }
  },
  "cells": [
    {
      "cell_type": "markdown",
      "metadata": {
        "id": "view-in-github",
        "colab_type": "text"
      },
      "source": [
        "<a href=\"https://colab.research.google.com/github/aasb2/Classificador-de-Bayes-Ingenuo/blob/main/PROJETO/plotestatistica.ipynb\" target=\"_parent\"><img src=\"https://colab.research.google.com/assets/colab-badge.svg\" alt=\"Open In Colab\"/></a>"
      ]
    },
    {
      "cell_type": "code",
      "metadata": {
        "id": "fy8cW_hoJysX"
      },
      "source": [
        "import pandas as pd\n",
        "import numpy as np\n",
        "from sklearn import preprocessing\n",
        "from sklearn.model_selection import train_test_split\n",
        "from sklearn.naive_bayes import MultinomialNB\n",
        "from sklearn.metrics import accuracy_score\n",
        "import matplotlib.pyplot as plt\n",
        "import seaborn as sns\n",
        "from sklearn import datasets"
      ],
      "execution_count": 2,
      "outputs": []
    },
    {
      "cell_type": "code",
      "metadata": {
        "id": "DuLRYEhxLjpG",
        "colab": {
          "base_uri": "https://localhost:8080/"
        },
        "outputId": "054b78bc-3715-45be-a225-516bee61a3f9"
      },
      "source": [
        "url = 'https://raw.githubusercontent.com/aasb2/Classificador-de-Bayes-Ingenuo/main/DATASET/bank/bank-full.csv'\n",
        "df = pd.read_csv(url,delimiter = ';')\n",
        "#df.describe(include = 'all')\n",
        "print(df.shape)"
      ],
      "execution_count": 3,
      "outputs": [
        {
          "output_type": "stream",
          "text": [
            "(45211, 17)\n"
          ],
          "name": "stdout"
        }
      ]
    },
    {
      "cell_type": "code",
      "metadata": {
        "id": "n3U46PUSRV5H",
        "colab": {
          "base_uri": "https://localhost:8080/",
          "height": 204
        },
        "outputId": "babfc65b-9c99-42c7-a16b-27006c3f2c2a"
      },
      "source": [
        "df.head()"
      ],
      "execution_count": 4,
      "outputs": [
        {
          "output_type": "execute_result",
          "data": {
            "text/html": [
              "<div>\n",
              "<style scoped>\n",
              "    .dataframe tbody tr th:only-of-type {\n",
              "        vertical-align: middle;\n",
              "    }\n",
              "\n",
              "    .dataframe tbody tr th {\n",
              "        vertical-align: top;\n",
              "    }\n",
              "\n",
              "    .dataframe thead th {\n",
              "        text-align: right;\n",
              "    }\n",
              "</style>\n",
              "<table border=\"1\" class=\"dataframe\">\n",
              "  <thead>\n",
              "    <tr style=\"text-align: right;\">\n",
              "      <th></th>\n",
              "      <th>age</th>\n",
              "      <th>job</th>\n",
              "      <th>marital</th>\n",
              "      <th>education</th>\n",
              "      <th>default</th>\n",
              "      <th>balance</th>\n",
              "      <th>housing</th>\n",
              "      <th>loan</th>\n",
              "      <th>contact</th>\n",
              "      <th>day</th>\n",
              "      <th>month</th>\n",
              "      <th>duration</th>\n",
              "      <th>campaign</th>\n",
              "      <th>pdays</th>\n",
              "      <th>previous</th>\n",
              "      <th>poutcome</th>\n",
              "      <th>y</th>\n",
              "    </tr>\n",
              "  </thead>\n",
              "  <tbody>\n",
              "    <tr>\n",
              "      <th>0</th>\n",
              "      <td>58</td>\n",
              "      <td>management</td>\n",
              "      <td>married</td>\n",
              "      <td>tertiary</td>\n",
              "      <td>no</td>\n",
              "      <td>2143</td>\n",
              "      <td>yes</td>\n",
              "      <td>no</td>\n",
              "      <td>unknown</td>\n",
              "      <td>5</td>\n",
              "      <td>may</td>\n",
              "      <td>261</td>\n",
              "      <td>1</td>\n",
              "      <td>-1</td>\n",
              "      <td>0</td>\n",
              "      <td>unknown</td>\n",
              "      <td>no</td>\n",
              "    </tr>\n",
              "    <tr>\n",
              "      <th>1</th>\n",
              "      <td>44</td>\n",
              "      <td>technician</td>\n",
              "      <td>single</td>\n",
              "      <td>secondary</td>\n",
              "      <td>no</td>\n",
              "      <td>29</td>\n",
              "      <td>yes</td>\n",
              "      <td>no</td>\n",
              "      <td>unknown</td>\n",
              "      <td>5</td>\n",
              "      <td>may</td>\n",
              "      <td>151</td>\n",
              "      <td>1</td>\n",
              "      <td>-1</td>\n",
              "      <td>0</td>\n",
              "      <td>unknown</td>\n",
              "      <td>no</td>\n",
              "    </tr>\n",
              "    <tr>\n",
              "      <th>2</th>\n",
              "      <td>33</td>\n",
              "      <td>entrepreneur</td>\n",
              "      <td>married</td>\n",
              "      <td>secondary</td>\n",
              "      <td>no</td>\n",
              "      <td>2</td>\n",
              "      <td>yes</td>\n",
              "      <td>yes</td>\n",
              "      <td>unknown</td>\n",
              "      <td>5</td>\n",
              "      <td>may</td>\n",
              "      <td>76</td>\n",
              "      <td>1</td>\n",
              "      <td>-1</td>\n",
              "      <td>0</td>\n",
              "      <td>unknown</td>\n",
              "      <td>no</td>\n",
              "    </tr>\n",
              "    <tr>\n",
              "      <th>3</th>\n",
              "      <td>47</td>\n",
              "      <td>blue-collar</td>\n",
              "      <td>married</td>\n",
              "      <td>unknown</td>\n",
              "      <td>no</td>\n",
              "      <td>1506</td>\n",
              "      <td>yes</td>\n",
              "      <td>no</td>\n",
              "      <td>unknown</td>\n",
              "      <td>5</td>\n",
              "      <td>may</td>\n",
              "      <td>92</td>\n",
              "      <td>1</td>\n",
              "      <td>-1</td>\n",
              "      <td>0</td>\n",
              "      <td>unknown</td>\n",
              "      <td>no</td>\n",
              "    </tr>\n",
              "    <tr>\n",
              "      <th>4</th>\n",
              "      <td>33</td>\n",
              "      <td>unknown</td>\n",
              "      <td>single</td>\n",
              "      <td>unknown</td>\n",
              "      <td>no</td>\n",
              "      <td>1</td>\n",
              "      <td>no</td>\n",
              "      <td>no</td>\n",
              "      <td>unknown</td>\n",
              "      <td>5</td>\n",
              "      <td>may</td>\n",
              "      <td>198</td>\n",
              "      <td>1</td>\n",
              "      <td>-1</td>\n",
              "      <td>0</td>\n",
              "      <td>unknown</td>\n",
              "      <td>no</td>\n",
              "    </tr>\n",
              "  </tbody>\n",
              "</table>\n",
              "</div>"
            ],
            "text/plain": [
              "   age           job  marital  education  ... pdays  previous poutcome   y\n",
              "0   58    management  married   tertiary  ...    -1         0  unknown  no\n",
              "1   44    technician   single  secondary  ...    -1         0  unknown  no\n",
              "2   33  entrepreneur  married  secondary  ...    -1         0  unknown  no\n",
              "3   47   blue-collar  married    unknown  ...    -1         0  unknown  no\n",
              "4   33       unknown   single    unknown  ...    -1         0  unknown  no\n",
              "\n",
              "[5 rows x 17 columns]"
            ]
          },
          "metadata": {
            "tags": []
          },
          "execution_count": 4
        }
      ]
    },
    {
      "cell_type": "code",
      "metadata": {
        "colab": {
          "base_uri": "https://localhost:8080/"
        },
        "id": "DPMd6MFchbHc",
        "outputId": "7c8ff9d4-6bd2-4782-d443-32378671311b"
      },
      "source": [
        "print(df['job'])"
      ],
      "execution_count": 5,
      "outputs": [
        {
          "output_type": "stream",
          "text": [
            "0          management\n",
            "1          technician\n",
            "2        entrepreneur\n",
            "3         blue-collar\n",
            "4             unknown\n",
            "             ...     \n",
            "45206      technician\n",
            "45207         retired\n",
            "45208         retired\n",
            "45209     blue-collar\n",
            "45210    entrepreneur\n",
            "Name: job, Length: 45211, dtype: object\n"
          ],
          "name": "stdout"
        }
      ]
    },
    {
      "cell_type": "code",
      "metadata": {
        "id": "8JBDcF_tiP2N"
      },
      "source": [
        "le = preprocessing.LabelEncoder()"
      ],
      "execution_count": 6,
      "outputs": []
    },
    {
      "cell_type": "code",
      "metadata": {
        "id": "Ta_shDEdl7ev",
        "colab": {
          "base_uri": "https://localhost:8080/"
        },
        "outputId": "abed717a-da4b-4480-d384-27117efd5f28"
      },
      "source": [
        "age = np.asarray(le.fit_transform(df['age']))\n",
        "job = np.asarray(le.fit_transform(df['job']))\n",
        "marital = np.asarray(le.fit_transform(df['marital']))\n",
        "education = np.asarray(le.fit_transform(df['education']))\n",
        "default = np.asarray(le.fit_transform(df['default']))\n",
        "balance = np.asarray(le.fit_transform(df['balance']))\n",
        "housing = np.asarray(le.fit_transform(df['housing']))\n",
        "loan = np.asarray(le.fit_transform(df['loan']))\n",
        "contact = np.asarray(le.fit_transform(df['contact']))\n",
        "day = np.asarray(le.fit_transform(df['day']))\n",
        "month = np.asarray(le.fit_transform(df['month']))\n",
        "duration = np.asarray(le.fit_transform(df['duration']))\n",
        "campaign = np.asarray(le.fit_transform(df['campaign']))\n",
        "pdays = np.asarray(le.fit_transform(df['pdays']))\n",
        "previous = np.asarray(le.fit_transform(df['previous']))\n",
        "poutcome = np.asarray(le.fit_transform(df['poutcome']))\n",
        "y = np.asarray(le.fit_transform(df['y']))\n",
        "job"
      ],
      "execution_count": 7,
      "outputs": [
        {
          "output_type": "execute_result",
          "data": {
            "text/plain": [
              "array([4, 9, 2, ..., 5, 1, 2])"
            ]
          },
          "metadata": {
            "tags": []
          },
          "execution_count": 7
        }
      ]
    },
    {
      "cell_type": "code",
      "metadata": {
        "id": "6PyvZBJAuXBW",
        "colab": {
          "base_uri": "https://localhost:8080/"
        },
        "outputId": "9beb17c8-ad82-4056-96d5-2d05b497fb08"
      },
      "source": [
        "x = np.asarray([age,job,marital,education,default,balance,housing,loan,contact,day,month,duration,campaign,pdays,previous,poutcome])\n",
        "x= x.transpose()\n",
        "x"
      ],
      "execution_count": 8,
      "outputs": [
        {
          "output_type": "execute_result",
          "data": {
            "text/plain": [
              "array([[ 40,   4,   1, ...,   0,   0,   3],\n",
              "       [ 26,   9,   2, ...,   0,   0,   3],\n",
              "       [ 15,   2,   1, ...,   0,   0,   3],\n",
              "       ...,\n",
              "       [ 54,   5,   1, ..., 181,   3,   2],\n",
              "       [ 39,   1,   1, ...,   0,   0,   3],\n",
              "       [ 19,   2,   1, ..., 185,  11,   1]])"
            ]
          },
          "metadata": {
            "tags": []
          },
          "execution_count": 8
        }
      ]
    },
    {
      "cell_type": "code",
      "metadata": {
        "id": "RLQOZMRYwS8p",
        "colab": {
          "base_uri": "https://localhost:8080/"
        },
        "outputId": "29e8cff8-e218-4dab-d88a-dc0a76dc3682"
      },
      "source": [
        "x_train, x_test, y_train, y_test = train_test_split( x, y, test_size=100)\n",
        "x_test"
      ],
      "execution_count": 9,
      "outputs": [
        {
          "output_type": "execute_result",
          "data": {
            "text/plain": [
              "array([[ 27,   2,   1, ..., 195,   4,   0],\n",
              "       [ 31,   7,   1, ...,   0,   0,   3],\n",
              "       [ 27,   1,   1, ...,   0,   0,   3],\n",
              "       ...,\n",
              "       [ 11,   1,   2, ...,   0,   0,   3],\n",
              "       [ 28,   1,   1, ...,   0,   0,   3],\n",
              "       [ 23,   1,   1, ...,   0,   0,   3]])"
            ]
          },
          "metadata": {
            "tags": []
          },
          "execution_count": 9
        }
      ]
    },
    {
      "cell_type": "code",
      "metadata": {
        "id": "uhrbe-ID28Cf"
      },
      "source": [
        "mnb = MultinomialNB()\n",
        "mnb.fit(x_train,y_train)\n",
        "y_pred = mnb.predict(x_test)\n",
        "y_pred\n",
        "\n",
        "# summarize probability distributions of the dataset\n",
        "from sklearn.datasets import make_blobs\n",
        "from scipy.stats import norm\n",
        "from numpy import mean\n",
        "from numpy import std\n",
        "\n",
        "# fit a probability distribution to a univariate data sample\n",
        "def fit_distribution(data):\n",
        "    # estimate parameters\n",
        "    mu = mean(data)\n",
        "    sigma = std(data)\n",
        "    #variancia = norm.Mean(data)\n",
        "    print(mu, sigma)\n",
        "    # fit distribution\n",
        "    dist = norm(mu, sigma)\n",
        "    #print(dist)\n",
        "    return dist\n"
      ],
      "execution_count": 28,
      "outputs": []
    },
    {
      "cell_type": "markdown",
      "metadata": {
        "id": "YU6muvDiRUUj"
      },
      "source": [
        "####**IDADES**"
      ]
    },
    {
      "cell_type": "code",
      "metadata": {
        "id": "cytZ6ojp2GKN",
        "colab": {
          "base_uri": "https://localhost:8080/"
        },
        "outputId": "019ebcfe-1bb4-4a9c-a0f0-5f5423026526"
      },
      "source": [
        "maxage = max(age) + 1\n",
        "print(maxage)\n",
        "x1 = list(range(0,int(maxage)))\n",
        "y1 = list(range(0,int(maxage)))\n",
        "for i in y1:\n",
        "    y1[i] = 0\n",
        "\n",
        "for i in age:\n",
        "    y1[i] += 1\n",
        "\n",
        "print(y1)"
      ],
      "execution_count": 29,
      "outputs": [
        {
          "output_type": "stream",
          "text": [
            "77\n",
            "[12, 35, 50, 79, 129, 202, 302, 527, 805, 909, 1038, 1185, 1757, 1996, 2085, 1972, 1930, 1894, 1806, 1696, 1466, 1487, 1355, 1291, 1242, 1161, 1136, 1216, 1175, 1088, 997, 994, 939, 936, 911, 891, 811, 806, 778, 828, 740, 770, 596, 147, 80, 77, 74, 59, 63, 54, 36, 44, 67, 54, 52, 44, 37, 39, 32, 44, 30, 25, 31, 17, 19, 22, 9, 5, 9, 4, 2, 3, 2, 2, 2, 1, 2]\n"
          ],
          "name": "stdout"
        }
      ]
    },
    {
      "cell_type": "code",
      "metadata": {
        "colab": {
          "base_uri": "https://localhost:8080/",
          "height": 365
        },
        "id": "92a4IHEv3BcC",
        "outputId": "3345d281-500a-427c-f879-424e9aa0f111"
      },
      "source": [
        "print(\"Accuracy\", accuracy_score(y_test,y_pred))\n",
        "y_test\n",
        "distIdades = fit_distribution(age)\n",
        "print(distIdades.ppf(0.99))\n",
        "\n",
        "rv = norm()\n",
        "\n",
        "x = np.linspace(distIdades.ppf(0.01),\n",
        "                distIdades.ppf(0.99), 1000)\n",
        "#ax.plot(x, distribuc.pdf(x),\n",
        "#       'r-', lw=5, alpha=0.6, label='norm pdf')\n",
        "\n",
        "r = distIdades.rvs(size=1000)\n",
        "\n",
        "print(y1[0])\n",
        "\n",
        "fig, ax = plt.subplots(1, 2, figsize=(12, 4))\n",
        "#fig = plt.figure(facecolor='w')\n",
        "#ax[0] = fig.add_subplot(1,2,1, facecolor='#dddddd', axisbelow=False)\n",
        "\n",
        "#ax[0].add_subplot(121, facecolor='#dddddd')\n",
        "#ax.plot(t, S/N, 'b', alpha=0.5, lw=2, label='Susceptíveis')\n",
        "ax[0].plot(x, distIdades.pdf(x), 'r', alpha=0.5, lw=2, label='norm pdf')\n",
        "ax[0].set_xlabel('Idades')\n",
        "ax[0].set_ylabel('Eixo y')\n",
        "#ax.set_ylim(0,500)\n",
        "ax[0].yaxis.set_tick_params(length=0)\n",
        "ax[0].xaxis.set_tick_params(length=0)\n",
        "ax[0].grid(b=True, which='major', c='w', lw=2, ls='-')\n",
        "\n",
        "ax[0].hist(r, density=True, histtype='stepfilled', alpha=0.2)\n",
        "ax[0].legend(loc='best', frameon=False)\n",
        "legend1 = ax[0].legend()\n",
        "legend1.get_frame().set_alpha(0.5)\n",
        "for spine in ('top', 'right', 'bottom', 'left'):\n",
        "    ax[0].spines[spine].set_visible(False)\n",
        "\n",
        "#ax[1].plot(t, M, 'r', alpha=0.5, lw=2, label='Mortos')\n",
        "ax[1].plot(x1, y1, 'gray', alpha=0.5, lw=2, label='Graves')\n",
        "ax[1].set_xlabel('Idades')\n",
        "ax[1].set_ylabel('Quantidade')\n",
        "#ax[1].set_xlim(0,80)\n",
        "ax[1].set_ylim(0,2500)\n",
        "ax[1].yaxis.set_tick_params(length=0)\n",
        "ax[1].xaxis.set_tick_params(length=0)\n",
        "ax[1].hist(r, density=True, histtype='stepfilled', alpha=0.2)\n",
        "#ax[1].legend(loc='best', frameon=False)\n",
        "#ax[1].grid(b=True, which='major', c='w', lw=2, ls='-')\n",
        "legend2 = ax[1].legend()\n",
        "legend2.get_frame().set_alpha(0.5)\n",
        "for spine in ('top', 'right', 'bottom', 'left'):\n",
        "    ax[1].spines[spine].set_visible(False)\n",
        "fig.tight_layout()"
      ],
      "execution_count": 37,
      "outputs": [
        {
          "output_type": "stream",
          "text": [
            "Accuracy 0.66\n",
            "22.936055384751498 10.61788648022191\n",
            "47.63695302482272\n",
            "12\n"
          ],
          "name": "stdout"
        },
        {
          "output_type": "display_data",
          "data": {
            "image/png": "[encoded data removed]",
            "text/plain": [
              "<Figure size 864x288 with 2 Axes>"
            ]
          },
          "metadata": {
            "tags": [],
            "needs_background": "light"
          }
        }
      ]
    },
    {
      "cell_type": "markdown",
      "metadata": {
        "id": "BIqxHeb-Rrp2"
      },
      "source": [
        "####**Outra Categoria**"
      ]
    },
    {
      "cell_type": "code",
      "metadata": {
        "id": "f59ENl8gJvt0",
        "colab": {
          "base_uri": "https://localhost:8080/"
        },
        "outputId": "b6bce190-0e8d-4f15-e3f9-c46cee26047a"
      },
      "source": [
        "distJob = fit_distribution(job)\n",
        "maxjob = max(job) + 1\n",
        "print(maxjob)\n",
        "xjob = list(range(0,int(maxjob)))\n",
        "yjob = list(range(0,int(maxjob)))\n",
        "for i in yjob:\n",
        "    yjob[i] = 0\n",
        "\n",
        "for i in job:\n",
        "    yjob[i] += 1\n",
        "\n",
        "distJob.ppf(0.99)\n",
        "print(yjob)"
      ],
      "execution_count": 35,
      "outputs": [
        {
          "output_type": "stream",
          "text": [
            "4.339762447192055 3.272620727770229\n",
            "12\n",
            "[5171, 9732, 1487, 1240, 9458, 2264, 1579, 4154, 938, 7597, 1303, 288]\n"
          ],
          "name": "stdout"
        }
      ]
    },
    {
      "cell_type": "code",
      "metadata": {
        "id": "8giQroZnS6B0",
        "colab": {
          "base_uri": "https://localhost:8080/",
          "height": 314
        },
        "outputId": "0468bb97-f5ad-429e-e202-b94e994911bd"
      },
      "source": [
        "x = np.linspace(distJob.ppf(0.01),\n",
        "                distJob.ppf(0.99), 1000)\n",
        "#ax.plot(x, distribuc.pdf(x),\n",
        "#       'r-', lw=5, alpha=0.6, label='norm pdf')\n",
        "\n",
        "r = distJob.rvs(size=1000)\n",
        "\n",
        "print(yjob[0])\n",
        "\n",
        "fig, ax = plt.subplots(1, 2, figsize=(12, 4))\n",
        "#fig = plt.figure(facecolor='w')\n",
        "#ax[0] = fig.add_subplot(1,2,1, facecolor='#dddddd', axisbelow=False)\n",
        "\n",
        "#ax[0].add_subplot(121, facecolor='#dddddd')\n",
        "#ax.plot(t, S/N, 'b', alpha=0.5, lw=2, label='Susceptíveis')\n",
        "ax[0].plot(x, distJob.pdf(x), 'r', alpha=0.5, lw=2, label='norm pdf')\n",
        "ax[0].set_xlabel('Idades')\n",
        "ax[0].set_ylabel('Eixo y')\n",
        "#ax.set_ylim(0,500)\n",
        "ax[0].yaxis.set_tick_params(length=0)\n",
        "ax[0].xaxis.set_tick_params(length=0)\n",
        "ax[0].grid(b=True, which='major', c='w', lw=2, ls='-')\n",
        "\n",
        "ax[0].hist(r, density=True, histtype='stepfilled', alpha=0.2)\n",
        "ax[0].legend(loc='best', frameon=False)\n",
        "legend1 = ax[0].legend()\n",
        "legend1.get_frame().set_alpha(0.5)\n",
        "for spine in ('top', 'right', 'bottom', 'left'):\n",
        "    ax[0].spines[spine].set_visible(False)\n",
        "\n",
        "#ax[1].plot(t, M, 'r', alpha=0.5, lw=2, label='Mortos')\n",
        "ax[1].plot(xjob, yjob, 'gray', alpha=0.5, lw=2, label='Graves')\n",
        "ax[1].set_xlabel('Idades')\n",
        "ax[1].set_ylabel('Quantidade')\n",
        "#ax[1].set_xlim(0,80)\n",
        "ax[1].set_ylim(0,max(yjob) + 100)\n",
        "ax[1].yaxis.set_tick_params(length=0)\n",
        "ax[1].xaxis.set_tick_params(length=0)\n",
        "ax[1].hist(r, density=True, histtype='stepfilled', alpha=0.2)\n",
        "#ax[1].legend(loc='best', frameon=False)\n",
        "#ax[1].grid(b=True, which='major', c='w', lw=2, ls='-')\n",
        "legend2 = ax[1].legend()\n",
        "legend2.get_frame().set_alpha(0.5)\n",
        "for spine in ('top', 'right', 'bottom', 'left'):\n",
        "    ax[1].spines[spine].set_visible(False)\n",
        "fig.tight_layout()"
      ],
      "execution_count": 36,
      "outputs": [
        {
          "output_type": "stream",
          "text": [
            "5171\n"
          ],
          "name": "stdout"
        },
        {
          "output_type": "display_data",
          "data": {
            "image/png": "[encoded data removed]",
            "text/plain": [
              "<Figure size 864x288 with 2 Axes>"
            ]
          },
          "metadata": {
            "tags": [],
            "needs_background": "light"
          }
        }
      ]
    }
  ]
}